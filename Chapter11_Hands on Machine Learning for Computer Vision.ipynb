{
 "cells": [
  {
   "cell_type": "markdown",
   "id": "561c74b6",
   "metadata": {},
   "source": [
    "# Chapter 11: Hands on Machine Learning for Computer Vision"
   ]
  },
  {
   "cell_type": "markdown",
   "id": "411feb09",
   "metadata": {},
   "source": [
    "***"
   ]
  },
  {
   "cell_type": "markdown",
   "id": "f4af7184",
   "metadata": {},
   "source": [
    "<img src=\"./images/ML16c.png\" alt=\"ML\" width=\"1000\"/>"
   ]
  },
  {
   "cell_type": "markdown",
   "id": "88f95c85",
   "metadata": {},
   "source": [
    "***"
   ]
  },
  {
   "cell_type": "markdown",
   "id": "902599bd",
   "metadata": {},
   "source": [
    "<img src=\"./images/ML36.png\" alt=\"ML\" width=\"1000\"/>"
   ]
  },
  {
   "cell_type": "markdown",
   "id": "f0e296e0",
   "metadata": {},
   "source": [
    "***"
   ]
  },
  {
   "cell_type": "markdown",
   "id": "950eb580",
   "metadata": {},
   "source": [
    "# Load Dataset"
   ]
  },
  {
   "cell_type": "code",
   "execution_count": 1,
   "id": "1757107c",
   "metadata": {},
   "outputs": [],
   "source": [
    "# Import necessary libraries\n",
    "from sklearn.datasets import fetch_openml\n",
    "import numpy as np\n",
    "\n",
    "# Load MNIST dataset\n",
    "mnist = fetch_openml('mnist_784')\n",
    "X, y = mnist['data'], mnist['target']\n",
    "y = y.astype(np.int8)  # Convert labels to integers\n"
   ]
  },
  {
   "cell_type": "markdown",
   "id": "1ac8fdbf",
   "metadata": {},
   "source": [
    "***"
   ]
  },
  {
   "cell_type": "markdown",
   "id": "bafed862",
   "metadata": {},
   "source": [
    "<img src=\"./images/KNN0.png\" alt=\"KNN\" width=\"1000\"/>"
   ]
  },
  {
   "cell_type": "markdown",
   "id": "f03d10cc",
   "metadata": {},
   "source": [
    "## Feature : Digit Area"
   ]
  },
  {
   "cell_type": "code",
   "execution_count": 2,
   "id": "db922a5e",
   "metadata": {},
   "outputs": [
    {
     "data": {
      "image/png": "[encoded data removed]",
      "text/plain": [
       "<Figure size 720x432 with 1 Axes>"
      ]
     },
     "metadata": {
      "needs_background": "light"
     },
     "output_type": "display_data"
    }
   ],
   "source": [
    "# Import necessary libraries\n",
    "from sklearn.model_selection import train_test_split\n",
    "from sklearn.neighbors import KNeighborsClassifier\n",
    "from sklearn.metrics import accuracy_score, classification_report\n",
    "import pandas as pd\n",
    "import matplotlib.pyplot as plt\n",
    "\n",
    "# Function to calculate area (number of pixels with intensity > 10)\n",
    "def calculate_area(image):\n",
    "    # Convert the image to a NumPy array and reshape it to 28x28\n",
    "    image = np.array(image).reshape(28, 28)\n",
    "    # Calculate area by counting pixels with intensity > 10\n",
    "    area = np.sum(image > 10)\n",
    "    return area\n",
    "\n",
    "# Apply the function to calculate the area for each image\n",
    "X_area = np.array([calculate_area(np.array(image)) for image in X.to_numpy()])\n",
    "\n",
    "# Reshape X_area to a 2D array to make it compatible with sklearn (as features need to be in 2D)\n",
    "X_area = X_area.reshape(-1, 1)\n",
    "\n",
    "# Train/Test Split\n",
    "X_train, X_test, y_train, y_test = train_test_split(X_area, y, test_size=0.2, random_state=42)\n",
    "\n",
    "# k-NN Classifier (using k=3)\n",
    "knn = KNeighborsClassifier(n_neighbors=3)\n",
    "knn.fit(X_train, y_train)\n",
    "\n",
    "# Predict and evaluate\n",
    "y_pred = knn.predict(X_test)\n",
    "\n",
    "# Calculate accuracy for each class\n",
    "class_report = classification_report(y_test, y_pred, output_dict=True)\n",
    "class_accuracies = {str(i): class_report[str(i)]['f1-score'] for i in range(10)}\n",
    "\n",
    "# Prepare data for plotting\n",
    "classes = list(class_accuracies.keys())\n",
    "accuracies = list(class_accuracies.values())\n",
    "\n",
    "# Plot accuracy for each class\n",
    "plt.figure(figsize=(10, 6))\n",
    "plt.bar(classes, accuracies, color='skyblue')\n",
    "plt.xlabel('Digit Class', fontsize=14)\n",
    "plt.ylabel('F1 Score (Accuracy)', fontsize=14)\n",
    "plt.title('Accuracy for Each Digit Class using k-NN', fontsize=16)\n",
    "plt.xticks(classes)\n",
    "plt.ylim(0, 1)\n",
    "plt.grid(axis='y')\n",
    "plt.show()"
   ]
  },
  {
   "cell_type": "markdown",
   "id": "b9435ec4",
   "metadata": {},
   "source": [
    "***"
   ]
  },
  {
   "cell_type": "markdown",
   "id": "6883a56f",
   "metadata": {},
   "source": [
    "## Statistical Features : mean, variance, skewness, kurtosis"
   ]
  },
  {
   "cell_type": "code",
   "execution_count": 6,
   "id": "673809a4",
   "metadata": {},
   "outputs": [
    {
     "data": {
      "image/png": "[encoded data removed]",
      "text/plain": [
       "<Figure size 720x432 with 1 Axes>"
      ]
     },
     "metadata": {
      "needs_background": "light"
     },
     "output_type": "display_data"
    }
   ],
   "source": [
    "# Function to calculate statistical features\n",
    "def extract_statistical_features(X):\n",
    "    # Initialize an empty list to hold feature vectors\n",
    "    features = []\n",
    "    \n",
    "    # Iterate through each image\n",
    "    for image in X.values:\n",
    "        # Calculate statistical features\n",
    "        mean = np.mean(image)\n",
    "        variance = np.var(image)\n",
    "        skewness = np.mean(((image - mean) ** 3)) / ((np.std(image)) ** 3) if np.std(image) != 0 else 0\n",
    "        kurtosis = np.mean(((image - mean) ** 4)) / ((np.std(image)) ** 4) if np.std(image) != 0 else 0\n",
    "        \n",
    "        # Append the features to the list\n",
    "        features.append([mean, variance, skewness, kurtosis])\n",
    "    \n",
    "    return np.array(features)\n",
    "\n",
    "# Extract statistical features\n",
    "X_stat_features = extract_statistical_features(X)\n",
    "\n",
    "# Train/Test Split\n",
    "X_train, X_test, y_train, y_test = train_test_split(X_stat_features, y, test_size=0.2, random_state=42)\n",
    "\n",
    "# k-NN Classifier\n",
    "knn = KNeighborsClassifier(n_neighbors=3)\n",
    "knn.fit(X_train, y_train)\n",
    "\n",
    "# Predict and evaluate\n",
    "y_pred = knn.predict(X_test)\n",
    "\n",
    "# Calculate accuracy for each class\n",
    "class_report = classification_report(y_test, y_pred, output_dict=True)\n",
    "class_accuracies = {str(i): class_report[str(i)]['f1-score'] for i in range(10)}\n",
    "\n",
    "# Prepare data for plotting\n",
    "classes = list(class_accuracies.keys())\n",
    "accuracies = list(class_accuracies.values())\n",
    "\n",
    "# Plot accuracy for each class\n",
    "plt.figure(figsize=(10, 6))\n",
    "plt.bar(classes, accuracies, color='skyblue')\n",
    "plt.xlabel('Digit Class', fontsize=14)\n",
    "plt.ylabel('F1 Score (Accuracy)', fontsize=14)\n",
    "plt.title('Accuracy for Each Digit Class using k-NN', fontsize=16)\n",
    "plt.xticks(classes)\n",
    "plt.ylim(0, 1)\n",
    "plt.grid(axis='y')\n",
    "plt.show()"
   ]
  },
  {
   "cell_type": "markdown",
   "id": "26d51b88",
   "metadata": {},
   "source": [
    "## HOG Features"
   ]
  },
  {
   "cell_type": "code",
   "execution_count": 11,
   "id": "51c72251",
   "metadata": {},
   "outputs": [
    {
     "name": "stderr",
     "output_type": "stream",
     "text": [
      "Extracting HOG Features: 100%|█████████████████████████████████████████████████| 70000/70000 [01:01<00:00, 1143.27it/s]\n"
     ]
    },
    {
     "data": {
      "image/png": "[encoded data removed]",
      "text/plain": [
       "<Figure size 720x432 with 1 Axes>"
      ]
     },
     "metadata": {
      "needs_background": "light"
     },
     "output_type": "display_data"
    }
   ],
   "source": [
    "# Import necessary libraries\n",
    "from skimage.feature import hog\n",
    "from skimage import exposure\n",
    "from tqdm import tqdm\n",
    "\n",
    "# Function to compute HOG features for each image\n",
    "def extract_hog_features(images):\n",
    "    hog_features = []\n",
    "    for image in tqdm(images, desc=\"Extracting HOG Features\"):\n",
    "        # Reshape and compute HOG features\n",
    "        image = image.reshape(28, 28)  # Reshape to 28x28\n",
    "        hog_feature = hog(image, pixels_per_cell=(4, 4), cells_per_block=(2, 2), visualize=False)\n",
    "        hog_features.append(hog_feature)\n",
    "    return np.array(hog_features)\n",
    "\n",
    "# Extract HOG features from the dataset\n",
    "X_hog = extract_hog_features(X.to_numpy())\n",
    "\n",
    "# Train/Test Split\n",
    "X_train, X_test, y_train, y_test = train_test_split(X_hog, y, test_size=0.2, random_state=42)\n",
    "\n",
    "# k-NN Classifier\n",
    "knn = KNeighborsClassifier(n_neighbors=3)\n",
    "knn.fit(X_train, y_train)\n",
    "\n",
    "# Predict and evaluate\n",
    "y_pred = knn.predict(X_test)\n",
    "\n",
    "# Calculate accuracy for each class\n",
    "class_report = classification_report(y_test, y_pred, output_dict=True)\n",
    "class_accuracies = {str(i): class_report[str(i)]['f1-score'] for i in range(10)}\n",
    "\n",
    "# Prepare data for plotting\n",
    "classes = list(class_accuracies.keys())\n",
    "accuracies = list(class_accuracies.values())\n",
    "\n",
    "# Plot accuracy for each class\n",
    "plt.figure(figsize=(10, 6))\n",
    "plt.bar(classes, accuracies, color='skyblue')\n",
    "plt.xlabel('Digit Class', fontsize=14)\n",
    "plt.ylabel('F1 Score (Accuracy)', fontsize=14)\n",
    "plt.title('Accuracy for Each Digit Class using k-NN', fontsize=16)\n",
    "plt.xticks(classes)\n",
    "plt.ylim(0, 1)\n",
    "plt.grid(axis='y')\n",
    "plt.show()"
   ]
  },
  {
   "cell_type": "code",
   "execution_count": 15,
   "id": "a088bce0",
   "metadata": {},
   "outputs": [
    {
     "name": "stdout",
     "output_type": "stream",
     "text": [
      "              precision    recall  f1-score   support\n",
      "\n",
      "           0       0.97      0.99      0.98      1343\n",
      "           1       0.98      0.99      0.99      1600\n",
      "           2       0.98      0.98      0.98      1380\n",
      "           3       0.97      0.96      0.97      1433\n",
      "           4       0.99      0.97      0.98      1295\n",
      "           5       0.99      0.96      0.97      1273\n",
      "           6       0.98      0.99      0.99      1396\n",
      "           7       0.97      0.96      0.97      1503\n",
      "           8       0.96      0.95      0.96      1357\n",
      "           9       0.94      0.97      0.96      1420\n",
      "\n",
      "    accuracy                           0.97     14000\n",
      "   macro avg       0.97      0.97      0.97     14000\n",
      "weighted avg       0.97      0.97      0.97     14000\n",
      "\n",
      "Overall Accuracy: 97.27%\n"
     ]
    }
   ],
   "source": [
    "# Print classification report to get accuracy for each class\n",
    "print(classification_report(y_test, y_pred))\n",
    "\n",
    "# Calculate overall accuracy\n",
    "overall_accuracy = accuracy_score(y_test, y_pred)\n",
    "print(f\"Overall Accuracy: {overall_accuracy * 100:.2f}%\")"
   ]
  },
  {
   "cell_type": "code",
   "execution_count": 13,
   "id": "4bf583d1",
   "metadata": {},
   "outputs": [
    {
     "data": {
      "image/png": "[encoded data removed]",
      "text/plain": [
       "<Figure size 864x432 with 2 Axes>"
      ]
     },
     "metadata": {
      "needs_background": "light"
     },
     "output_type": "display_data"
    }
   ],
   "source": [
    "random_index = np.random.randint(0, len(X))  # Choose a random index\n",
    "\n",
    "# Select a random image and label\n",
    "random_image = X.iloc[random_index].to_numpy().reshape(28, 28)  # Reshape to 28x28\n",
    "label = y.iloc[random_index]\n",
    "\n",
    "# Function to compute HOG features\n",
    "def extract_hog(image):\n",
    "    hog_feature, hog_image = hog(image, pixels_per_cell=(4, 4), \n",
    "                                  cells_per_block=(2, 2), visualize=True, \n",
    "                                  multichannel=False)\n",
    "    hog_image_rescaled = exposure.rescale_intensity(hog_image, in_range=(0, 10))  # Rescale for better visualization\n",
    "    return hog_image_rescaled\n",
    "\n",
    "# Extract HOG features for the random image\n",
    "hog_image = extract_hog(random_image)\n",
    "\n",
    "# Plot the original image and the HOG image\n",
    "plt.figure(figsize=(12, 6))\n",
    "\n",
    "# Original Image\n",
    "plt.subplot(1, 2, 1)\n",
    "plt.imshow(random_image, cmap='gray')\n",
    "plt.title(f\"Original Image (Label: {label})\")\n",
    "plt.axis('off')\n",
    "\n",
    "# HOG Image\n",
    "plt.subplot(1, 2, 2)\n",
    "plt.imshow(hog_image, cmap='gray')\n",
    "plt.title(\"HOG Features\")\n",
    "plt.axis('off')\n",
    "\n",
    "plt.tight_layout()\n",
    "plt.show()"
   ]
  },
  {
   "cell_type": "markdown",
   "id": "b262e4ba",
   "metadata": {},
   "source": [
    "## Pixel Intensity Feature"
   ]
  },
  {
   "cell_type": "code",
   "execution_count": 16,
   "id": "133697ad",
   "metadata": {},
   "outputs": [
    {
     "name": "stdout",
     "output_type": "stream",
     "text": [
      "              precision    recall  f1-score   support\n",
      "\n",
      "           0       0.98      0.99      0.98      1343\n",
      "           1       0.96      0.99      0.98      1600\n",
      "           2       0.97      0.97      0.97      1380\n",
      "           3       0.97      0.96      0.97      1433\n",
      "           4       0.97      0.96      0.97      1295\n",
      "           5       0.98      0.97      0.97      1273\n",
      "           6       0.98      0.99      0.99      1396\n",
      "           7       0.97      0.98      0.97      1503\n",
      "           8       0.99      0.94      0.96      1357\n",
      "           9       0.96      0.95      0.96      1420\n",
      "\n",
      "    accuracy                           0.97     14000\n",
      "   macro avg       0.97      0.97      0.97     14000\n",
      "weighted avg       0.97      0.97      0.97     14000\n",
      "\n",
      "Overall Accuracy: 97.13%\n"
     ]
    },
    {
     "data": {
      "image/png": "[encoded data removed]",
      "text/plain": [
       "<Figure size 720x432 with 1 Axes>"
      ]
     },
     "metadata": {
      "needs_background": "light"
     },
     "output_type": "display_data"
    }
   ],
   "source": [
    "# Train/Test Split (using 80% for training and 20% for testing)\n",
    "X_train, X_test, y_train, y_test = train_test_split(X, y, test_size=0.2, random_state=42)\n",
    "\n",
    "# k-NN Classifier\n",
    "knn = KNeighborsClassifier(n_neighbors=3)\n",
    "knn.fit(X_train, y_train)\n",
    "\n",
    "# Predict and evaluate\n",
    "y_pred = knn.predict(X_test)\n",
    "\n",
    "# Print classification report to get accuracy for each class\n",
    "print(classification_report(y_test, y_pred))\n",
    "\n",
    "# Calculate overall accuracy\n",
    "overall_accuracy = accuracy_score(y_test, y_pred)\n",
    "print(f\"Overall Accuracy: {overall_accuracy * 100:.2f}%\")\n",
    "\n",
    "# Calculate accuracy for each class\n",
    "class_report = classification_report(y_test, y_pred, output_dict=True)\n",
    "class_accuracies = {str(i): class_report[str(i)]['f1-score'] for i in range(10)}\n",
    "\n",
    "# Prepare data for plotting\n",
    "classes = list(class_accuracies.keys())\n",
    "accuracies = list(class_accuracies.values())\n",
    "\n",
    "# Plot accuracy for each class\n",
    "plt.figure(figsize=(10, 6))\n",
    "plt.bar(classes, accuracies, color='skyblue')\n",
    "plt.xlabel('Digit Class', fontsize=14)\n",
    "plt.ylabel('F1 Score (Accuracy)', fontsize=14)\n",
    "plt.title('Accuracy for Each Digit Class using k-NN', fontsize=16)\n",
    "plt.xticks(classes)\n",
    "plt.ylim(0, 1)\n",
    "plt.grid(axis='y')\n",
    "plt.show()"
   ]
  },
  {
   "cell_type": "markdown",
   "id": "b44f2b94",
   "metadata": {},
   "source": [
    "<img src=\"./images/SVM1.png\" alt=\"SVM\" width=\"1000\"/>"
   ]
  },
  {
   "cell_type": "code",
   "execution_count": 21,
   "id": "8aea3b7d",
   "metadata": {},
   "outputs": [
    {
     "name": "stdout",
     "output_type": "stream",
     "text": [
      "              precision    recall  f1-score   support\n",
      "\n",
      "           0       0.98      0.99      0.98      1343\n",
      "           1       0.98      0.99      0.98      1600\n",
      "           2       0.96      0.97      0.96      1380\n",
      "           3       0.96      0.96      0.96      1433\n",
      "           4       0.97      0.97      0.97      1295\n",
      "           5       0.98      0.97      0.97      1273\n",
      "           6       0.98      0.98      0.98      1396\n",
      "           7       0.96      0.97      0.97      1503\n",
      "           8       0.95      0.94      0.95      1357\n",
      "           9       0.97      0.95      0.96      1420\n",
      "\n",
      "    accuracy                           0.97     14000\n",
      "   macro avg       0.97      0.97      0.97     14000\n",
      "weighted avg       0.97      0.97      0.97     14000\n",
      "\n",
      "Overall Accuracy: 96.82%\n"
     ]
    },
    {
     "data": {
      "image/png": "[encoded data removed]",
      "text/plain": [
       "<Figure size 720x432 with 1 Axes>"
      ]
     },
     "metadata": {
      "needs_background": "light"
     },
     "output_type": "display_data"
    }
   ],
   "source": [
    "# Importing necessary libraries\n",
    "from sklearn.svm import SVC\n",
    "\n",
    "# SVM Classifier\n",
    "svm = SVC(kernel='linear', random_state=42)  # You can also try other kernels like 'rbf'\n",
    "svm.fit(X_train, y_train)\n",
    "\n",
    "# Predict and evaluate\n",
    "y_pred = svm.predict(X_test)\n",
    "\n",
    "# Print classification report to get accuracy for each class\n",
    "print(classification_report(y_test, y_pred))\n",
    "\n",
    "# Calculate overall accuracy\n",
    "overall_accuracy = accuracy_score(y_test, y_pred)\n",
    "print(f\"Overall Accuracy: {overall_accuracy * 100:.2f}%\")\n",
    "\n",
    "# Prepare data for plotting\n",
    "classes = list(class_accuracies.keys())\n",
    "accuracies = list(class_accuracies.values())\n",
    "\n",
    "# Plot accuracy for each class\n",
    "plt.figure(figsize=(10, 6))\n",
    "plt.bar(classes, accuracies, color='skyblue')\n",
    "plt.xlabel('Digit Class', fontsize=14)\n",
    "plt.ylabel('F1 Score (Accuracy)', fontsize=14)\n",
    "plt.title('Accuracy for Each Digit Class using SVM', fontsize=16)\n",
    "plt.xticks(classes)\n",
    "plt.ylim(0, 1)\n",
    "plt.grid(axis='y')\n",
    "plt.show()"
   ]
  },
  {
   "cell_type": "markdown",
   "id": "ec7fae9c",
   "metadata": {},
   "source": [
    "<img src=\"./images/RF0.png\" alt=\"RF\" width=\"1000\"/>"
   ]
  },
  {
   "cell_type": "code",
   "execution_count": 24,
   "id": "5c618a15",
   "metadata": {},
   "outputs": [
    {
     "name": "stdout",
     "output_type": "stream",
     "text": [
      "              precision    recall  f1-score   support\n",
      "\n",
      "           0       0.97      0.99      0.98      1343\n",
      "           1       0.98      0.98      0.98      1600\n",
      "           2       0.95      0.97      0.96      1380\n",
      "           3       0.94      0.95      0.95      1433\n",
      "           4       0.96      0.97      0.96      1295\n",
      "           5       0.95      0.95      0.95      1273\n",
      "           6       0.98      0.97      0.98      1396\n",
      "           7       0.96      0.96      0.96      1503\n",
      "           8       0.95      0.93      0.94      1357\n",
      "           9       0.96      0.94      0.95      1420\n",
      "\n",
      "    accuracy                           0.96     14000\n",
      "   macro avg       0.96      0.96      0.96     14000\n",
      "weighted avg       0.96      0.96      0.96     14000\n",
      "\n",
      "Overall Accuracy: 96.09%\n"
     ]
    },
    {
     "data": {
      "image/png": "[encoded data removed]",
      "text/plain": [
       "<Figure size 720x432 with 1 Axes>"
      ]
     },
     "metadata": {
      "needs_background": "light"
     },
     "output_type": "display_data"
    }
   ],
   "source": [
    "# Importing necessary libraries\n",
    "from sklearn.ensemble import RandomForestClassifier\n",
    "\n",
    "# Random Forest Classifier\n",
    "rf_classifier = RandomForestClassifier(n_estimators=100, random_state=42)  # Using 100 trees\n",
    "rf_classifier.fit(X_train, y_train)\n",
    "\n",
    "# Predict and evaluate\n",
    "y_pred = rf_classifier.predict(X_test)\n",
    "\n",
    "# Print classification report to get accuracy for each class\n",
    "print(classification_report(y_test, y_pred))\n",
    "\n",
    "# Calculate overall accuracy\n",
    "overall_accuracy = accuracy_score(y_test, y_pred)\n",
    "print(f\"Overall Accuracy: {overall_accuracy * 100:.2f}%\")\n",
    "\n",
    "# Prepare data for plotting\n",
    "classes = list(class_accuracies.keys())\n",
    "accuracies = list(class_accuracies.values())\n",
    "\n",
    "# Plot accuracy for each class\n",
    "plt.figure(figsize=(10, 6))\n",
    "plt.bar(classes, accuracies, color='skyblue')\n",
    "plt.xlabel('Digit Class', fontsize=14)\n",
    "plt.ylabel('F1 Score (Accuracy)', fontsize=14)\n",
    "plt.title('Accuracy for Each Digit Class using SVM', fontsize=16)\n",
    "plt.xticks(classes)\n",
    "plt.ylim(0, 1)\n",
    "plt.grid(axis='y')\n",
    "plt.show()"
   ]
  },
  {
   "cell_type": "code",
   "execution_count": null,
   "id": "ad96769c",
   "metadata": {},
   "outputs": [],
   "source": []
  }
 ],
 "metadata": {
  "kernelspec": {
   "display_name": "Python 3",
   "language": "python",
   "name": "python3"
  },
  "language_info": {
   "codemirror_mode": {
    "name": "ipython",
    "version": 3
   },
   "file_extension": ".py",
   "mimetype": "text/x-python",
   "name": "python",
   "nbconvert_exporter": "python",
   "pygments_lexer": "ipython3",
   "version": "3.6.13"
  }
 },
 "nbformat": 4,
 "nbformat_minor": 5
}
