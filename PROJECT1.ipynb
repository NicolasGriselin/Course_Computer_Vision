{
 "cells": [
  {
   "cell_type": "markdown",
   "id": "3504205a",
   "metadata": {},
   "source": [
    "# PROJECT 1"
   ]
  },
  {
   "cell_type": "markdown",
   "id": "b86dfc69",
   "metadata": {},
   "source": [
    "**Task:**\n",
    "\n",
    "- read the image \"composite.png\"\n",
    "- filter intensities between 19000 and 23000\n",
    "- invert the image \n",
    "- crop around defect (box about 300x300 pixels)\n",
    "- find the best filter or combination of filters to enhance the visibility of the defect\n",
    "\n",
    "**Deliverable:**\n",
    "\n",
    "The deliverable will be a Jupyter Notebook. \n",
    "\n",
    "**Deadline:**\n",
    "\n",
    "This project must be submitted before October, 25."
   ]
  }
 ],
 "metadata": {
  "kernelspec": {
   "display_name": "Python 3",
   "language": "python",
   "name": "python3"
  },
  "language_info": {
   "codemirror_mode": {
    "name": "ipython",
    "version": 3
   },
   "file_extension": ".py",
   "mimetype": "text/x-python",
   "name": "python",
   "nbconvert_exporter": "python",
   "pygments_lexer": "ipython3",
   "version": "3.6.13"
  }
 },
 "nbformat": 4,
 "nbformat_minor": 5
}
